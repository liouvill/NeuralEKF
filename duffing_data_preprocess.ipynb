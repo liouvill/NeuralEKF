{
 "cells": [
  {
   "cell_type": "code",
   "execution_count": 1,
   "metadata": {},
   "outputs": [],
   "source": [
    "import pandas as pd\n",
    "import matplotlib.pyplot as plt\n",
    "import numpy as np\n",
    "import scipy.io as sio\n",
    "import pickle"
   ]
  },
  {
   "cell_type": "code",
   "execution_count": 2,
   "metadata": {},
   "outputs": [],
   "source": [
    "output_data = sio.loadmat(\"duffing_data.mat\")[\"Obs\"]\n",
    "input_data = np.array([]).reshape(51,0)"
   ]
  },
  {
   "cell_type": "code",
   "execution_count": 3,
   "metadata": {},
   "outputs": [],
   "source": [
    "ts = np.linspace(0., 50*0.2 , num = 51, endpoint=False)\n",
    "n_batch_train = 1000\n",
    "n_batch_test = 1"
   ]
  },
  {
   "cell_type": "code",
   "execution_count": 4,
   "metadata": {},
   "outputs": [],
   "source": [
    "data_train = []\n",
    "data_test = []\n",
    "for i in range(n_batch_train):\n",
    "    data_train.append((ts, output_data[i], input_data))\n",
    "for i in range(n_batch_test):\n",
    "    data_test.append((ts, output_data[n_batch_train+i], input_data))\n",
    "with open('duffing_train.pickle', \"wb\") as handle:\n",
    "    pickle.dump(data_train, handle)\n",
    "with open('duffing_test.pickle', \"wb\") as handle:\n",
    "    pickle.dump(data_test, handle)"
   ]
  },
  {
   "cell_type": "code",
   "execution_count": 5,
   "metadata": {},
   "outputs": [],
   "source": [
    "with open('duffing_train.pickle', \"rb\") as handle:\n",
    "    data_load_train = pickle.load(handle)\n",
    "with open('duffing_test.pickle', \"rb\") as handle:\n",
    "    data_load_test = pickle.load(handle)"
   ]
  }
 ],
 "metadata": {
  "kernelspec": {
   "display_name": "Python 3 (ipykernel)",
   "language": "python",
   "name": "python3"
  },
  "language_info": {
   "codemirror_mode": {
    "name": "ipython",
    "version": 3
   },
   "file_extension": ".py",
   "mimetype": "text/x-python",
   "name": "python",
   "nbconvert_exporter": "python",
   "pygments_lexer": "ipython3",
   "version": "3.9.12"
  }
 },
 "nbformat": 4,
 "nbformat_minor": 4
}
